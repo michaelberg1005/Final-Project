{
 "cells": [
  {
   "cell_type": "code",
   "execution_count": 64,
   "metadata": {},
   "outputs": [],
   "source": [
    "# Import dependencies\n",
    "import pandas as pd\n",
    "import psycopg2\n",
    "import boto3"
   ]
  },
  {
   "cell_type": "code",
   "execution_count": null,
   "metadata": {},
   "outputs": [],
   "source": [
    "# Get the S3 keys from config file\n",
    "from config import aws_access_key, aws_secret_access_key, postgres_key"
   ]
  },
  {
   "cell_type": "code",
   "execution_count": 44,
   "metadata": {},
   "outputs": [],
   "source": [
    "# Load the fec data from the site\n",
    "fec = pd.read_excel(\"https://transition.fec.gov/press/summaries/2014/tables/congressional/ConCand7_2014_18m.xlsx\", header=None)"
   ]
  },
  {
   "cell_type": "code",
   "execution_count": 45,
   "metadata": {},
   "outputs": [],
   "source": [
    "# Convert data to a DataFrame\n",
    "fec_df = pd.DataFrame(fec)"
   ]
  },
  {
   "cell_type": "code",
   "execution_count": 46,
   "metadata": {},
   "outputs": [],
   "source": [
    "# Drop first 4 rows of DataFrame\n",
    "fec_df = fec_df.iloc[4:]"
   ]
  },
  {
   "cell_type": "code",
   "execution_count": 47,
   "metadata": {},
   "outputs": [],
   "source": [
    "# Convert first row of DataFrame to column names and drop the first row\n",
    "fec_df.columns = fec_df.iloc[0]\n",
    "fec_df = fec_df.iloc[1:]"
   ]
  },
  {
   "cell_type": "code",
   "execution_count": 48,
   "metadata": {},
   "outputs": [],
   "source": [
    "# Bucket the party column\n",
    "party_counts = fec_df[\"Party\"].value_counts()\n",
    "\n",
    "replace_parties = list(\n",
    "    party_counts[party_counts < 100].index)\n",
    "\n",
    "for parties in replace_parties:\n",
    "    fec_df.Party = fec_df.Party.replace(parties, \"Other\")"
   ]
  },
  {
   "cell_type": "code",
   "execution_count": 49,
   "metadata": {},
   "outputs": [],
   "source": [
    "# Remove commas from DataFrame\n",
    "fec_df = fec_df.replace(\",\", \"\", regex=True)"
   ]
  },
  {
   "cell_type": "code",
   "execution_count": 50,
   "metadata": {},
   "outputs": [],
   "source": [
    "# Drop na values\n",
    "fec_df = fec_df.dropna()"
   ]
  },
  {
   "cell_type": "code",
   "execution_count": 51,
   "metadata": {},
   "outputs": [],
   "source": [
    "# Rename columns\n",
    "fec_df.columns = [\n",
    "    \"state\",\n",
    "    \"district\",\n",
    "    \"name\",\n",
    "    \"party\",\n",
    "    \"incumbent_challenger_open\",\n",
    "    \"receipts\",\n",
    "    \"from_individuals\",\n",
    "    \"from_committees\",\n",
    "    \"from_candidate\",\n",
    "    \"disbursements\",\n",
    "    \"cash_on_hand\",\n",
    "    \"debts\",\n",
    "    \"end_date\"\n",
    "]"
   ]
  },
  {
   "cell_type": "code",
   "execution_count": 52,
   "metadata": {},
   "outputs": [],
   "source": [
    "# Drop duplicates in name column\n",
    "fec_df = fec_df.drop_duplicates(subset=[\"name\"])"
   ]
  },
  {
   "cell_type": "code",
   "execution_count": 53,
   "metadata": {},
   "outputs": [],
   "source": [
    "# Drop unwated values from the state column\n",
    "fec_df.drop(fec_df[fec_df[\"state\"] == \"Guam\"].index, inplace=True)\n",
    "fec_df.drop(fec_df[fec_df[\"state\"] == \"District Of Columbia\"].index, inplace=True)\n",
    "fec_df.drop(fec_df[fec_df[\"state\"] == \"Northern Mariana\"].index, inplace=True)\n",
    "fec_df.drop(fec_df[fec_df[\"state\"] == \"American Samoa\"].index, inplace=True)\n",
    "fec_df.drop(fec_df[fec_df[\"state\"] == \"Virgin Islands\"].index, inplace=True)\n",
    "fec_df.drop(fec_df[fec_df[\"state\"] == \"Puerto Rico\"].index, inplace=True)"
   ]
  },
  {
   "cell_type": "code",
   "execution_count": 54,
   "metadata": {},
   "outputs": [],
   "source": [
    "# Strip the spaces from the state column\n",
    "fec_df[\"state\"] = fec_df[\"state\"].str.replace(\" \",\"\")"
   ]
  },
  {
   "cell_type": "code",
   "execution_count": 55,
   "metadata": {},
   "outputs": [],
   "source": [
    "# Convert state column values to abbreviations\n",
    "\n",
    "state_list = fec_df[\"state\"]\n",
    "\n",
    "new_states = []\n",
    "\n",
    "for state in state_list:\n",
    "    if state == \"Alabama\":\n",
    "        new_states.append(\"AL\")\n",
    "    if state == \"Alaska\":\n",
    "        new_states.append(\"AK\")\n",
    "    if state == \"Arizona\":\n",
    "        new_states.append(\"AZ\")\n",
    "    if state == \"Arkansas\":\n",
    "        new_states.append(\"AR\")\n",
    "    if state == \"California\":\n",
    "        new_states.append(\"CA\")\n",
    "    if state == \"Colorado\":\n",
    "        new_states.append(\"CO\")\n",
    "    if state == \"Connecticut\":\n",
    "        new_states.append(\"CT\")\n",
    "    if state == \"Delaware\":\n",
    "        new_states.append(\"DE\")\n",
    "    if state == \"Florida\":\n",
    "        new_states.append(\"FL\")\n",
    "    if state == \"Georgia\":\n",
    "        new_states.append(\"GA\")\n",
    "    if state == \"Hawaii\":\n",
    "        new_states.append(\"HI\")\n",
    "    if state == \"Idaho\":\n",
    "        new_states.append(\"ID\")\n",
    "    if state == \"Illinois\":\n",
    "        new_states.append(\"IL\")\n",
    "    if state == \"Indiana\":\n",
    "        new_states.append(\"IN\")\n",
    "    if state == \"Iowa\":\n",
    "        new_states.append(\"IA\")\n",
    "    if state == \"Kansas\":\n",
    "        new_states.append(\"KS\")\n",
    "    if state == \"Kentucky\":\n",
    "        new_states.append(\"KY\")\n",
    "    if state == \"Louisiana\":\n",
    "        new_states.append(\"LA\")\n",
    "    if state == \"Maine\":\n",
    "        new_states.append(\"ME\")\n",
    "    if state == \"Maryland\":\n",
    "        new_states.append(\"MD\")\n",
    "    if state == \"Massachusetts\":\n",
    "        new_states.append(\"MA\")\n",
    "    if state == \"Michigan\":\n",
    "        new_states.append(\"MI\")\n",
    "    if state == \"Minnesota\":\n",
    "        new_states.append(\"MN\")\n",
    "    if state == \"Mississippi\":\n",
    "        new_states.append(\"MS\")\n",
    "    if state == \"Missouri\":\n",
    "        new_states.append(\"MO\")\n",
    "    if state == \"Montana\":\n",
    "        new_states.append(\"MT\")\n",
    "    if state == \"Nebraska\":\n",
    "        new_states.append(\"NE\")\n",
    "    if state == \"Nevada\":\n",
    "        new_states.append(\"NV\")\n",
    "    if state == \"NewHampshire\":\n",
    "        new_states.append(\"NH\")\n",
    "    if state == \"NewJersey\":\n",
    "        new_states.append(\"NJ\")\n",
    "    if state == \"NewMexico\":\n",
    "        new_states.append(\"NM\")\n",
    "    if state == \"NewYork\":\n",
    "        new_states.append(\"NY\")\n",
    "    if state == \"NorthCarolina\":\n",
    "        new_states.append(\"NC\")\n",
    "    if state == \"NorthDakota\":\n",
    "        new_states.append(\"ND\")\n",
    "    if state == \"Ohio\":\n",
    "        new_states.append(\"OH\")\n",
    "    if state == \"Oklahoma\":\n",
    "        new_states.append(\"OK\")\n",
    "    if state == \"Oregon\":\n",
    "        new_states.append(\"OR\")\n",
    "    if state == \"Pennsylvania\":\n",
    "        new_states.append(\"PA\")\n",
    "    if state == \"RhodeIsland\":\n",
    "        new_states.append(\"RI\")\n",
    "    if state == \"SouthCarolina\":\n",
    "        new_states.append(\"SC\")\n",
    "    if state == \"SouthDakota\":\n",
    "        new_states.append(\"SD\")\n",
    "    if state == \"Tennessee\":\n",
    "        new_states.append(\"TN\")\n",
    "    if state == \"Texas\":\n",
    "        new_states.append(\"TX\")\n",
    "    if state == \"Utah\":\n",
    "        new_states.append(\"UT\")\n",
    "    if state == \"Vermont\":\n",
    "        new_states.append(\"VT\")\n",
    "    if state == \"Virginia\":\n",
    "        new_states.append(\"VA\")\n",
    "    if state == \"Washington\":\n",
    "        new_states.append(\"WA\")\n",
    "    if state == \"WestVirginia\":\n",
    "        new_states.append(\"WV\")\n",
    "    if state == \"Wisconsin\":\n",
    "        new_states.append(\"WI\")\n",
    "    if state == \"Wyoming\":\n",
    "        new_states.append(\"WY\")"
   ]
  },
  {
   "cell_type": "code",
   "execution_count": 56,
   "metadata": {},
   "outputs": [],
   "source": [
    "# Add the abbreviations to a new column\n",
    "fec_df[\"new_state\"] = new_states\n",
    "\n",
    "# Drop the original column\n",
    "fec_df = fec_df.drop(columns=\"state\")"
   ]
  },
  {
   "cell_type": "code",
   "execution_count": 57,
   "metadata": {},
   "outputs": [],
   "source": [
    "# Concatenate the state and district columns\n",
    "fec_df[\"state_district\"] = fec_df[\"new_state\"] + fec_df[\"district\"]"
   ]
  },
  {
   "cell_type": "code",
   "execution_count": 58,
   "metadata": {},
   "outputs": [],
   "source": [
    "# Drop the district, new_state and end_date columns\n",
    "fec_df = fec_df.drop(columns=\"district\")\n",
    "fec_df = fec_df.drop(columns=\"new_state\")\n",
    "fec_df = fec_df.drop(columns=\"end_date\")"
   ]
  },
  {
   "cell_type": "code",
   "execution_count": 59,
   "metadata": {},
   "outputs": [],
   "source": [
    "# Move the state_district column to the front of the DataFrame\n",
    "col_name=\"state_district\"\n",
    "first_col = fec_df.pop(col_name)\n",
    "fec_df.insert(0, col_name, first_col)"
   ]
  },
  {
   "cell_type": "code",
   "execution_count": 60,
   "metadata": {},
   "outputs": [],
   "source": [
    "# Replace 00 values with 01\n",
    "fec_df = fec_df.replace(\"00\", \"01\", regex=True)"
   ]
  },
  {
   "cell_type": "code",
   "execution_count": 61,
   "metadata": {},
   "outputs": [],
   "source": [
    "# Add an election year column\n",
    "data = 2014\n",
    "\n",
    "fec_df.insert(1, \"election\", data)"
   ]
  },
  {
   "cell_type": "code",
   "execution_count": 62,
   "metadata": {},
   "outputs": [],
   "source": [
    "# Export to csv\n",
    "fec_df.to_csv(\"Data/fec_2014.csv\", index=False)"
   ]
  },
  {
   "cell_type": "code",
   "execution_count": 63,
   "metadata": {},
   "outputs": [],
   "source": [
    "# Upload fec_df to sql database\n",
    "conn = psycopg2.connect(\"host=projectdatabase.c1ibogbs35nd.us-east-2.rds.amazonaws.com dbname=election_results user=postgres password=postgres_key)\n",
    "cur = conn.cursor()\n",
    "with open(\"Data/fec_2014.csv\", \"r\") as f:\n",
    "    next(f) # Skip the header row.\n",
    "    cur.copy_from(f, \"fec_2014\", sep=\",\")\n",
    "\n",
    "conn.commit()"
   ]
  },
  {
   "cell_type": "code",
   "execution_count": null,
   "metadata": {},
   "outputs": [],
   "source": []
  }
 ],
 "metadata": {
  "kernelspec": {
   "display_name": "PythonData",
   "language": "python",
   "name": "pythondata"
  },
  "language_info": {
   "codemirror_mode": {
    "name": "ipython",
    "version": 3
   },
   "file_extension": ".py",
   "mimetype": "text/x-python",
   "name": "python",
   "nbconvert_exporter": "python",
   "pygments_lexer": "ipython3",
   "version": "3.7.6"
  }
 },
 "nbformat": 4,
 "nbformat_minor": 4
}
