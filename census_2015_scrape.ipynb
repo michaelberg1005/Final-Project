{
 "cells": [
  {
   "cell_type": "code",
   "execution_count": null,
   "metadata": {},
   "outputs": [],
   "source": [
    "# Import dependencies\n",
    "import pandas as pd\n",
    "import psycopg2\n",
    "import boto3\n",
    "import re"
   ]
  },
  {
   "cell_type": "code",
   "execution_count": null,
   "metadata": {},
   "outputs": [],
   "source": [
    "# Get the S3 keys from config file\n",
    "from config import aws_access_key, aws_secret_access_key, postgres_key"
   ]
  },
  {
   "cell_type": "code",
   "execution_count": null,
   "metadata": {},
   "outputs": [],
   "source": [
    "# Download census file from S3 bucket\n",
    "s3 = boto3.client(\"s3\", aws_access_key_id=aws_access_key, aws_secret_access_key=aws_secret_access_key\")\n",
    "s3.download_file(\"evanmcgee-projectbucket\", \"census_2015_raw.csv\", \"census_2015_raw.csv\")"
   ]
  },
  {
   "cell_type": "code",
   "execution_count": null,
   "metadata": {},
   "outputs": [],
   "source": [
    "# Read into a DataFrame\n",
    "census_df = pd.read_csv(\"census_2015_raw.csv\")"
   ]
  },
  {
   "cell_type": "code",
   "execution_count": null,
   "metadata": {},
   "outputs": [],
   "source": [
    "# Drop the id column\n",
    "census_df = census_df.drop(\"id\", axis=1)"
   ]
  },
  {
   "cell_type": "code",
   "execution_count": null,
   "metadata": {},
   "outputs": [],
   "source": [
    "# Clean up the Geographic Area Name column values\n",
    "census_df[\"Geographic Area Name\"] = census_df[\"Geographic Area Name\"].str.replace(\"Congressional District\",\"\")\n",
    "census_df[\"Geographic Area Name\"] = census_df[\"Geographic Area Name\"].str.replace(\"\\(114th Congress\\),\", \"\")\n",
    "census_df[\"Geographic Area Name\"] = census_df[\"Geographic Area Name\"].str.replace(\"\\(at Large\\)\", \"\")"
   ]
  },
  {
   "cell_type": "code",
   "execution_count": null,
   "metadata": {},
   "outputs": [],
   "source": [
    "# Remove columns starting with Margin of Error\n",
    "census_df = census_df.loc[:,~census_df.columns.str.startswith(\"Margin of Error\")]"
   ]
  },
  {
   "cell_type": "code",
   "execution_count": null,
   "metadata": {},
   "outputs": [],
   "source": [
    "# Remove columns starting with Percent Margin of Error\n",
    "census_df = census_df.loc[:,~census_df.columns.str.startswith(\"Percent Margin of Error\")]"
   ]
  },
  {
   "cell_type": "code",
   "execution_count": null,
   "metadata": {},
   "outputs": [],
   "source": [
    "# Extract state names using regex and add to new column\n",
    "census_df[\"state\"] = census_df[\"Geographic Area Name\"].str.extract(r\"([A-Z][a-z]+(?: +[A-Z][a-z]+)*)\")"
   ]
  },
  {
   "cell_type": "code",
   "execution_count": null,
   "metadata": {},
   "outputs": [],
   "source": [
    "# Extract district numbers using regex and add to new column\n",
    "census_df[\"district\"] = census_df[\"Geographic Area Name\"].str.extract(r\"(\\d+)\")"
   ]
  },
  {
   "cell_type": "code",
   "execution_count": null,
   "metadata": {},
   "outputs": [],
   "source": [
    "# Drop the Geographic Area Name column\n",
    "census_df = census_df.drop(columns=\"Geographic Area Name\")"
   ]
  },
  {
   "cell_type": "code",
   "execution_count": null,
   "metadata": {},
   "outputs": [],
   "source": [
    "# Strip the spaces from the state column\n",
    "census_df[\"state\"] = census_df[\"state\"].str.replace(\" \",\"\")"
   ]
  },
  {
   "cell_type": "code",
   "execution_count": null,
   "metadata": {},
   "outputs": [],
   "source": [
    "# Remove D.C. and Puerto Rico from the DataFrame\n",
    "census_df = census_df[census_df[\"state\"] != \"DelegateDistrictDistrict\"]\n",
    "census_df = census_df[census_df[\"state\"] != \"ResidentCommissionerDistrictPuertoRico\"]"
   ]
  },
  {
   "cell_type": "code",
   "execution_count": null,
   "metadata": {},
   "outputs": [],
   "source": [
    "# Convert state column values to abbreviations\n",
    "\n",
    "state_list = census_df[\"state\"]\n",
    "\n",
    "new_states = []\n",
    "\n",
    "for state in state_list:\n",
    "    if state == \"Alabama\":\n",
    "        new_states.append(\"AL\")\n",
    "    if state == \"Alaska\":\n",
    "        new_states.append(\"AK\")\n",
    "    if state == \"Arizona\":\n",
    "        new_states.append(\"AZ\")\n",
    "    if state == \"Arkansas\":\n",
    "        new_states.append(\"AR\")\n",
    "    if state == \"California\":\n",
    "        new_states.append(\"CA\")\n",
    "    if state == \"Colorado\":\n",
    "        new_states.append(\"CO\")\n",
    "    if state == \"Connecticut\":\n",
    "        new_states.append(\"CT\")\n",
    "    if state == \"Delaware\":\n",
    "        new_states.append(\"DE\")\n",
    "    if state == \"Florida\":\n",
    "        new_states.append(\"FL\")\n",
    "    if state == \"Georgia\":\n",
    "        new_states.append(\"GA\")\n",
    "    if state == \"Hawaii\":\n",
    "        new_states.append(\"HI\")\n",
    "    if state == \"Idaho\":\n",
    "        new_states.append(\"ID\")\n",
    "    if state == \"Illinois\":\n",
    "        new_states.append(\"IL\")\n",
    "    if state == \"Indiana\":\n",
    "        new_states.append(\"IN\")\n",
    "    if state == \"Iowa\":\n",
    "        new_states.append(\"IA\")\n",
    "    if state == \"Kansas\":\n",
    "        new_states.append(\"KS\")\n",
    "    if state == \"Kentucky\":\n",
    "        new_states.append(\"KY\")\n",
    "    if state == \"Louisiana\":\n",
    "        new_states.append(\"LA\")\n",
    "    if state == \"Maine\":\n",
    "        new_states.append(\"ME\")\n",
    "    if state == \"Maryland\":\n",
    "        new_states.append(\"MD\")\n",
    "    if state == \"Massachusetts\":\n",
    "        new_states.append(\"MA\")\n",
    "    if state == \"Michigan\":\n",
    "        new_states.append(\"MI\")\n",
    "    if state == \"Minnesota\":\n",
    "        new_states.append(\"MN\")\n",
    "    if state == \"Mississippi\":\n",
    "        new_states.append(\"MS\")\n",
    "    if state == \"Missouri\":\n",
    "        new_states.append(\"MO\")\n",
    "    if state == \"Montana\":\n",
    "        new_states.append(\"MT\")\n",
    "    if state == \"Nebraska\":\n",
    "        new_states.append(\"NE\")\n",
    "    if state == \"Nevada\":\n",
    "        new_states.append(\"NV\")\n",
    "    if state == \"NewHampshire\":\n",
    "        new_states.append(\"NH\")\n",
    "    if state == \"NewJersey\":\n",
    "        new_states.append(\"NJ\")\n",
    "    if state == \"NewMexico\":\n",
    "        new_states.append(\"NM\")\n",
    "    if state == \"NewYork\":\n",
    "        new_states.append(\"NY\")\n",
    "    if state == \"NorthCarolina\":\n",
    "        new_states.append(\"NC\")\n",
    "    if state == \"NorthDakota\":\n",
    "        new_states.append(\"ND\")\n",
    "    if state == \"Ohio\":\n",
    "        new_states.append(\"OH\")\n",
    "    if state == \"Oklahoma\":\n",
    "        new_states.append(\"OK\")\n",
    "    if state == \"Oregon\":\n",
    "        new_states.append(\"OR\")\n",
    "    if state == \"Pennsylvania\":\n",
    "        new_states.append(\"PA\")\n",
    "    if state == \"RhodeIsland\":\n",
    "        new_states.append(\"RI\")\n",
    "    if state == \"SouthCarolina\":\n",
    "        new_states.append(\"SC\")\n",
    "    if state == \"SouthDakota\":\n",
    "        new_states.append(\"SD\")\n",
    "    if state == \"Tennessee\":\n",
    "        new_states.append(\"TN\")\n",
    "    if state == \"Texas\":\n",
    "        new_states.append(\"TX\")\n",
    "    if state == \"Utah\":\n",
    "        new_states.append(\"UT\")\n",
    "    if state == \"Vermont\":\n",
    "        new_states.append(\"VT\")\n",
    "    if state == \"Virginia\":\n",
    "        new_states.append(\"VA\")\n",
    "    if state == \"Washington\":\n",
    "        new_states.append(\"WA\")\n",
    "    if state == \"WestVirginia\":\n",
    "        new_states.append(\"WV\")\n",
    "    if state == \"Wisconsin\":\n",
    "        new_states.append(\"WI\")\n",
    "    if state == \"Wyoming\":\n",
    "        new_states.append(\"WY\")"
   ]
  },
  {
   "cell_type": "code",
   "execution_count": null,
   "metadata": {},
   "outputs": [],
   "source": [
    "# Add the abbreviations to a new column\n",
    "census_df[\"new_state\"] = new_states\n",
    "\n",
    "# Drop the original column\n",
    "census_df = census_df.drop(columns=\"state\")"
   ]
  },
  {
   "cell_type": "code",
   "execution_count": null,
   "metadata": {},
   "outputs": [],
   "source": [
    "# Replace NANs in district column with 1s\n",
    "census_df[\"district\"] = census_df[\"district\"].fillna(\"1\")"
   ]
  },
  {
   "cell_type": "code",
   "execution_count": null,
   "metadata": {},
   "outputs": [],
   "source": [
    "# Add a zero to the beginning of single digit numbers in district column\n",
    "census_df[\"district\"] = census_df[\"district\"].str.zfill(2)"
   ]
  },
  {
   "cell_type": "code",
   "execution_count": null,
   "metadata": {},
   "outputs": [],
   "source": [
    "# Concatenate the state and district columns\n",
    "census_df[\"state_district\"] = census_df[\"new_state\"] + census_df[\"district\"]"
   ]
  },
  {
   "cell_type": "code",
   "execution_count": null,
   "metadata": {},
   "outputs": [],
   "source": [
    "# Drop the district and new_state columns\n",
    "census_df = census_df.drop(columns=\"district\")\n",
    "census_df = census_df.drop(columns=\"new_state\")"
   ]
  },
  {
   "cell_type": "code",
   "execution_count": null,
   "metadata": {},
   "outputs": [],
   "source": [
    "# Move the state_district column to the front of the DataFrame\n",
    "col_name=\"state_district\"\n",
    "first_col = census_df.pop(col_name)\n",
    "census_df.insert(0, col_name, first_col)"
   ]
  },
  {
   "cell_type": "code",
   "execution_count": null,
   "metadata": {},
   "outputs": [],
   "source": [
    "# Create a new dataframe with selected columns\n",
    "\n",
    "df = census_df[[\n",
    "    \"state_district\",\n",
    "    \"Estimate!!SEX AND AGE!!Total population\",\n",
    "    \"Percent!!SEX AND AGE!!Total population!!Male\",\n",
    "    \"Percent!!SEX AND AGE!!Total population!!Female\",\n",
    "    \"Percent!!SEX AND AGE!!Under 5 years\",\n",
    "    \"Percent!!SEX AND AGE!!5 to 9 years\",\n",
    "    \"Percent!!SEX AND AGE!!10 to 14 years\",\n",
    "    \"Percent!!SEX AND AGE!!15 to 19 years\",\n",
    "    \"Percent!!SEX AND AGE!!20 to 24 years\",\n",
    "    \"Percent!!SEX AND AGE!!25 to 34 years\",\n",
    "    \"Percent!!SEX AND AGE!!35 to 44 years\",\n",
    "    \"Percent!!SEX AND AGE!!45 to 54 years\",\n",
    "    \"Percent!!SEX AND AGE!!55 to 59 years\",\n",
    "    \"Percent!!SEX AND AGE!!60 to 64 years\",\n",
    "    \"Percent!!SEX AND AGE!!65 to 74 years\",\n",
    "    \"Percent!!SEX AND AGE!!75 to 84 years\",\n",
    "    \"Percent!!SEX AND AGE!!85 years and over\",\n",
    "    \"Estimate!!SEX AND AGE!!Median age (years)\",\n",
    "    \"Percent!!SEX AND AGE!!18 years and over\",\n",
    "    \"Percent!!SEX AND AGE!!21 years and over\",\n",
    "    \"Percent!!SEX AND AGE!!62 years and over\",\n",
    "    \"Percent!!SEX AND AGE!!65 years and over\",\n",
    "    \"Percent!!SEX AND AGE!!18 years and over!!Male\",\n",
    "    \"Percent!!SEX AND AGE!!18 years and over!!Female\",\n",
    "    \"Percent!!SEX AND AGE!!65 years and over!!Male\",\n",
    "    \"Percent!!SEX AND AGE!!65 years and over!!Female\",\n",
    "    \"Percent!!HISPANIC OR LATINO AND RACE!!Total population!!Not Hispanic or Latino!!White alone\",\n",
    "    \"Percent!!HISPANIC OR LATINO AND RACE!!Total population!!Not Hispanic or Latino!!Black or African American alone\",\n",
    "    \"Percent!!HISPANIC OR LATINO AND RACE!!Total population!!Not Hispanic or Latino!!American Indian and Alaska Native alone\",\n",
    "    \"Percent!!HISPANIC OR LATINO AND RACE!!Total population!!Not Hispanic or Latino!!Asian alone\",\n",
    "    \"Percent!!HISPANIC OR LATINO AND RACE!!Total population!!Not Hispanic or Latino!!Native Hawaiian and Other Pacific Islander alone\",\n",
    "    \"Percent!!HISPANIC OR LATINO AND RACE!!Total population!!Not Hispanic or Latino!!Some other race alone\",\n",
    "    \"Percent!!HISPANIC OR LATINO AND RACE!!Total population!!Hispanic or Latino (of any race)\",\n",
    "    \"Estimate!!Total housing units\"\n",
    "]]"
   ]
  },
  {
   "cell_type": "code",
   "execution_count": null,
   "metadata": {},
   "outputs": [],
   "source": [
    "# Rename the column names\n",
    "\n",
    "df.columns = [\n",
    "    \"district\",\n",
    "    \"total_pop\",\n",
    "    \"male_pop_percent\",\n",
    "    \"female_pop_percent\",\n",
    "    \"under_5_percent\",\n",
    "    \"5_to_9_percent\",\n",
    "    \"10_to_14_percent\",\n",
    "    \"15_to_19_percent\",\n",
    "    \"20_to_24_percent\",\n",
    "    \"25_to_34_percent\",\n",
    "    \"35_to_44_percent\",\n",
    "    \"45_to_54_percent\",\n",
    "    \"55_to_59_percent\",\n",
    "    \"60_to_64_percent\",\n",
    "    \"65_to_74_percent\",\n",
    "    \"75_to_84_percent\",\n",
    "    \"over_85_percent\",\n",
    "    \"median_age\",\n",
    "    \"18_and_over_percent\",\n",
    "    \"21_and_over_percent\",\n",
    "    \"62_and_over_percent\",\n",
    "    \"65_and_over_percent\",\n",
    "    \"18_and_over_male_percent\",\n",
    "    \"18_and_over_female_percent\",\n",
    "    \"65_and_over_male_percent\",\n",
    "    \"65_and_over_female_percent\",\n",
    "    \"white_pop_percent\",\n",
    "    \"black_pop_percent\",\n",
    "    \"american_indian_alaska_native_pop_percent\",\n",
    "    \"asian_pop_percent\",\n",
    "    \"native_hawaiian_pacific_islander_pop_percent\",\n",
    "    \"other_race_pop_percent\",\n",
    "    \"hispanic_pop_percent\",\n",
    "    \"total_housing_units\"\n",
    "]"
   ]
  },
  {
   "cell_type": "code",
   "execution_count": null,
   "metadata": {},
   "outputs": [],
   "source": [
    "# Add an election year column\n",
    "data = 2016\n",
    "\n",
    "df.insert(1, \"election_year\", data)"
   ]
  },
  {
   "cell_type": "code",
   "execution_count": null,
   "metadata": {},
   "outputs": [],
   "source": [
    "# Export to csv\n",
    "df.to_csv(\"Data/census_2015.csv\", index=False)"
   ]
  },
  {
   "cell_type": "code",
   "execution_count": null,
   "metadata": {},
   "outputs": [],
   "source": [
    "# Upload df to sql database\n",
    "conn = psycopg2.connect(\"host=projectdatabase.c1ibogbs35nd.us-east-2.rds.amazonaws.com dbname=election_results user=postgres password=postgres_key\")\n",
    "cur = conn.cursor()\n",
    "with open(\"Data/census_2015.csv\", \"r\") as f:\n",
    "    next(f) # Skip the header row.\n",
    "    cur.copy_from(f, \"census_2015\", sep=\",\")\n",
    "\n",
    "conn.commit()"
   ]
  },
  {
   "cell_type": "code",
   "execution_count": null,
   "metadata": {},
   "outputs": [],
   "source": []
  }
 ],
 "metadata": {
  "kernelspec": {
   "display_name": "PythonData",
   "language": "python",
   "name": "pythondata"
  },
  "language_info": {
   "codemirror_mode": {
    "name": "ipython",
    "version": 3
   },
   "file_extension": ".py",
   "mimetype": "text/x-python",
   "name": "python",
   "nbconvert_exporter": "python",
   "pygments_lexer": "ipython3",
   "version": "3.7.6"
  }
 },
 "nbformat": 4,
 "nbformat_minor": 4
}
